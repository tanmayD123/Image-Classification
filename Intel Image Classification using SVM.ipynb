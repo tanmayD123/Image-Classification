{
 "cells": [
  {
   "cell_type": "code",
   "execution_count": 1,
   "id": "express-assurance",
   "metadata": {},
   "outputs": [],
   "source": [
    "from tensorflow.compat.v1 import ConfigProto\n",
    "from tensorflow.compat.v1 import InteractiveSession\n",
    "from keras.preprocessing.image import ImageDataGenerator\n",
    "\n",
    "config = ConfigProto()\n",
    "config.gpu_options.per_process_gpu_memory_fraction = 0.5\n",
    "config.gpu_options.allow_growth = True\n",
    "session = InteractiveSession(config=config)"
   ]
  },
  {
   "cell_type": "code",
   "execution_count": 2,
   "id": "relevant-swedish",
   "metadata": {},
   "outputs": [],
   "source": [
    "import tensorflow as tf\n",
    "from tensorflow.keras.preprocessing.image import ImageDataGenerator"
   ]
  },
  {
   "cell_type": "code",
   "execution_count": 3,
   "id": "complex-relevance",
   "metadata": {},
   "outputs": [
    {
     "name": "stdout",
     "output_type": "stream",
     "text": [
      "Found 14034 images belonging to 6 classes.\n",
      "Found 3000 images belonging to 6 classes.\n"
     ]
    }
   ],
   "source": [
    "train_datagen = ImageDataGenerator(rescale = 1./255,\n",
    "                                   shear_range = 0.2,\n",
    "                                   zoom_range = 0.2,\n",
    "                                   horizontal_flip = True)\n",
    "training_set = train_datagen.flow_from_directory(r'C:\\Users\\Tanmay\\Downloads\\intel\\seg_train\\seg_train',\n",
    "                                                 target_size = (64, 64),\n",
    "                                                 batch_size = 32,\n",
    "                                                 class_mode = 'categorical')\n",
    "\n",
    "\n",
    "\n",
    "test_datagen = ImageDataGenerator(rescale = 1./255)\n",
    "test_set = test_datagen.flow_from_directory(r'C:\\Users\\Tanmay\\Downloads\\intel\\seg_test\\seg_test',\n",
    "                                            target_size = (64, 64),\n",
    "                                            batch_size = 32,\n",
    "                                            class_mode = 'categorical')"
   ]
  },
  {
   "cell_type": "code",
   "execution_count": 4,
   "id": "silver-theme",
   "metadata": {},
   "outputs": [],
   "source": [
    "from tensorflow.keras.layers import Conv2D\n",
    "from tensorflow.keras.layers import Dense\n",
    "from tensorflow.keras.regularizers import l2"
   ]
  },
  {
   "cell_type": "code",
   "execution_count": 5,
   "id": "offshore-delight",
   "metadata": {},
   "outputs": [],
   "source": [
    "# Part 2 - Building the CNN\n",
    "# Initialising the CNN\n",
    "cnn = tf.keras.models.Sequential()\n",
    "\n",
    "# Step 1 - Convolution\n",
    "cnn.add(tf.keras.layers.Conv2D(filters=32,padding=\"same\",kernel_size=3, activation='relu', strides=2, input_shape=[64, 64, 3]))\n",
    "\n",
    "# Step 2 - Pooling\n",
    "cnn.add(tf.keras.layers.MaxPool2D(pool_size=2, strides=2))\n",
    "\n",
    "# Adding a second convolutional layer\n",
    "cnn.add(tf.keras.layers.Conv2D(filters=32,padding='same',kernel_size=3, activation='relu'))\n",
    "cnn.add(tf.keras.layers.MaxPool2D(pool_size=2, strides=2))\n",
    "\n",
    "# Step 3 - Flattening \n",
    "cnn.add(tf.keras.layers.Flatten())\n",
    "\n",
    "# Step 4 - Full Connection\n",
    "cnn.add(tf.keras.layers.Dense(units=128, activation='relu'))\n",
    "\n",
    "\n",
    "# for mulitclassification\n",
    "cnn.add(Dense(6, kernel_regularizer=tf.keras.regularizers.l2(0.01),activation\n",
    "             ='softmax'))\n",
    "cnn.compile(optimizer = 'adam', loss = 'squared_hinge', metrics = ['accuracy'])"
   ]
  },
  {
   "cell_type": "code",
   "execution_count": 6,
   "id": "cellular-communist",
   "metadata": {},
   "outputs": [
    {
     "name": "stdout",
     "output_type": "stream",
     "text": [
      "Model: \"sequential\"\n",
      "_________________________________________________________________\n",
      "Layer (type)                 Output Shape              Param #   \n",
      "=================================================================\n",
      "conv2d (Conv2D)              (None, 32, 32, 32)        896       \n",
      "_________________________________________________________________\n",
      "max_pooling2d (MaxPooling2D) (None, 16, 16, 32)        0         \n",
      "_________________________________________________________________\n",
      "conv2d_1 (Conv2D)            (None, 16, 16, 32)        9248      \n",
      "_________________________________________________________________\n",
      "max_pooling2d_1 (MaxPooling2 (None, 8, 8, 32)          0         \n",
      "_________________________________________________________________\n",
      "flatten (Flatten)            (None, 2048)              0         \n",
      "_________________________________________________________________\n",
      "dense (Dense)                (None, 128)               262272    \n",
      "_________________________________________________________________\n",
      "dense_1 (Dense)              (None, 6)                 774       \n",
      "=================================================================\n",
      "Total params: 273,190\n",
      "Trainable params: 273,190\n",
      "Non-trainable params: 0\n",
      "_________________________________________________________________\n"
     ]
    }
   ],
   "source": [
    "cnn.summary()"
   ]
  },
  {
   "cell_type": "code",
   "execution_count": 7,
   "id": "resident-helen",
   "metadata": {},
   "outputs": [
    {
     "name": "stdout",
     "output_type": "stream",
     "text": [
      "Epoch 1/15\n",
      "439/439 [==============================] - 29s 65ms/step - loss: 1.1306 - accuracy: 0.5645 - val_accuracy: 0.5710 - val_loss: 1.1106\n",
      "Epoch 2/15\n",
      "439/439 [==============================] - 20s 45ms/step - loss: 1.0655 - accuracy: 0.6457 - val_accuracy: 0.6547 - val_loss: 1.0586\n",
      "Epoch 3/15\n",
      "439/439 [==============================] - 20s 45ms/step - loss: 1.0406 - accuracy: 0.6831 - val_accuracy: 0.6270 - val_loss: 1.0735\n",
      "Epoch 4/15\n",
      "439/439 [==============================] - 22s 49ms/step - loss: 1.0228 - accuracy: 0.7141 - val_accuracy: 0.7117 - val_loss: 1.0241\n",
      "Epoch 5/15\n",
      "439/439 [==============================] - 21s 49ms/step - loss: 1.0130 - accuracy: 0.7282 - val_accuracy: 0.7173 - val_loss: 1.0199\n",
      "Epoch 6/15\n",
      "439/439 [==============================] - 21s 49ms/step - loss: 1.0036 - accuracy: 0.7436 - val_accuracy: 0.7480 - val_loss: 1.0011\n",
      "Epoch 7/15\n",
      "439/439 [==============================] - 27s 61ms/step - loss: 0.9942 - accuracy: 0.7574 - val_accuracy: 0.7280 - val_loss: 1.0094 l - ETA\n",
      "Epoch 8/15\n",
      "439/439 [==============================] - 22s 51ms/step - loss: 0.9917 - accuracy: 0.7629 - val_accuracy: 0.7223 - val_loss: 1.0163\n",
      "Epoch 9/15\n",
      "439/439 [==============================] - 22s 51ms/step - loss: 0.9873 - accuracy: 0.7701 - val_accuracy: 0.7663 - val_loss: 0.9863\n",
      "Epoch 10/15\n",
      "439/439 [==============================] - 22s 50ms/step - loss: 0.9832 - accuracy: 0.7742 - val_accuracy: 0.7720 - val_loss: 0.9852\n",
      "Epoch 11/15\n",
      "439/439 [==============================] - 21s 47ms/step - loss: 0.9812 - accuracy: 0.7754 - val_accuracy: 0.7777 - val_loss: 0.9822\n",
      "Epoch 12/15\n",
      "439/439 [==============================] - 20s 45ms/step - loss: 0.9769 - accuracy: 0.7859 - val_accuracy: 0.7683 - val_loss: 0.9893\n",
      "Epoch 13/15\n",
      "439/439 [==============================] - 20s 45ms/step - loss: 0.9754 - accuracy: 0.7874 - val_accuracy: 0.7463 - val_loss: 0.9978\n",
      "Epoch 14/15\n",
      "439/439 [==============================] - 20s 45ms/step - loss: 0.9710 - accuracy: 0.7949 - val_accuracy: 0.7960 - val_loss: 0.9682\n",
      "Epoch 15/15\n",
      "439/439 [==============================] - 20s 45ms/step - loss: 0.9701 - accuracy: 0.7960 - val_accuracy: 0.7897 - val_loss: 0.9732\n"
     ]
    }
   ],
   "source": [
    "\n",
    "\n",
    "# Training the CNN on the Training set and evaluating it on the Test set\n",
    "r=cnn.fit(x = training_set, validation_data = test_set, epochs = 15)"
   ]
  },
  {
   "cell_type": "code",
   "execution_count": 10,
   "id": "artificial-spider",
   "metadata": {},
   "outputs": [],
   "source": [
    "classes = ['buildings', 'forest', 'glacier', 'mountain', 'sea', 'street']"
   ]
  },
  {
   "cell_type": "code",
   "execution_count": 35,
   "id": "alert-expression",
   "metadata": {},
   "outputs": [],
   "source": [
    "from tensorflow.keras.models import load_model\n",
    "\n",
    "cnn.save('intel classification SVM.h5') #Got 80% accuracy with SVM"
   ]
  },
  {
   "cell_type": "code",
   "execution_count": 30,
   "id": "structural-mailman",
   "metadata": {},
   "outputs": [],
   "source": [
    "from tensorflow.keras.models import load_model\n",
    " \n",
    "# load model\n",
    "model = load_model('intel classification SVM.h5')"
   ]
  },
  {
   "cell_type": "code",
   "execution_count": 31,
   "id": "damaged-clear",
   "metadata": {},
   "outputs": [],
   "source": [
    "import numpy as np\n",
    "from tensorflow.keras.preprocessing import image\n",
    "test_image = image.load_img(r'C:\\Users\\Tanmay\\Downloads\\intel\\seg_pred\\seg_pred\\360.jpg', target_size = (64,64))\n",
    "test_image = image.img_to_array(test_image)\n",
    "test_image=test_image/255\n",
    "test_image = np.expand_dims(test_image, axis = 0)\n",
    "result = cnn.predict(test_image)"
   ]
  },
  {
   "cell_type": "code",
   "execution_count": 32,
   "id": "reported-characterization",
   "metadata": {},
   "outputs": [
    {
     "data": {
      "text/plain": [
       "array([[5.4675713e-02, 2.6780053e-04, 4.5118030e-02, 1.2738255e-01,\n",
       "        3.6364514e-02, 7.3619139e-01]], dtype=float32)"
      ]
     },
     "execution_count": 32,
     "metadata": {},
     "output_type": "execute_result"
    }
   ],
   "source": [
    "result"
   ]
  },
  {
   "cell_type": "code",
   "execution_count": 33,
   "id": "subtle-thanks",
   "metadata": {},
   "outputs": [
    {
     "data": {
      "text/plain": [
       "5"
      ]
     },
     "execution_count": 33,
     "metadata": {},
     "output_type": "execute_result"
    }
   ],
   "source": [
    "np.argmax(result)"
   ]
  },
  {
   "cell_type": "code",
   "execution_count": 34,
   "id": "handy-football",
   "metadata": {},
   "outputs": [
    {
     "data": {
      "text/plain": [
       "'street'"
      ]
     },
     "execution_count": 34,
     "metadata": {},
     "output_type": "execute_result"
    }
   ],
   "source": [
    "classes[np.argmax(result)]"
   ]
  },
  {
   "cell_type": "code",
   "execution_count": null,
   "id": "induced-angel",
   "metadata": {},
   "outputs": [],
   "source": []
  }
 ],
 "metadata": {
  "kernelspec": {
   "display_name": "Python 3",
   "language": "python",
   "name": "python3"
  },
  "language_info": {
   "codemirror_mode": {
    "name": "ipython",
    "version": 3
   },
   "file_extension": ".py",
   "mimetype": "text/x-python",
   "name": "python",
   "nbconvert_exporter": "python",
   "pygments_lexer": "ipython3",
   "version": "3.5.6"
  }
 },
 "nbformat": 4,
 "nbformat_minor": 5
}
